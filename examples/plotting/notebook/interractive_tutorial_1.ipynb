{
 "metadata": {
  "name": "",
  "signature": "sha256:7bc365f9be1e218549c1c5f35eabbe7cf2b4dd4fb4c46d723f96bbdd78e605c9"
 },
 "nbformat": 3,
 "nbformat_minor": 0,
 "worksheets": [
  {
   "cells": [
    {
     "cell_type": "markdown",
     "metadata": {},
     "source": [
      "# Introduction\n",
      "Bokeh is a fantastic library that can be used to do several things:\n",
      "- Make plots of almost any data. Plots can be:\n",
      " - interractive\n",
      " - show big data\n",
      " - dynamic\n",
      " - embedded in web pages\n",
      "- Create web based GUI's with:\n",
      " - buttons\n",
      " - input boxes\n",
      " - drag and drop charts\n",
      " \n",
      "We will be doing an overview of these features\n",
      "\n",
      "**Before we begin, make sure that you have executed the command `bokeh-server` anywhere on your computer**\n",
      "\n",
      "First we will load the bokeh library and create some random data"
     ]
    },
    {
     "cell_type": "code",
     "collapsed": false,
     "input": [
      "from bokeh.plotting import *\n",
      "import numpy as np\n",
      "import pandas as pd\n",
      "\n",
      "LEN = 100\n",
      "x = np.arange(LEN)\n",
      "def get_random_line(x):\n",
      "    return np.random.randn(LEN) * 10 + x * 2\n",
      "y = get_random_line(x)  # create a randomly distributed sloped line\n",
      "\n",
      "output_notebook(url='default')  # load bokeh into ipython notebook. The url is necessary if we are using the server\n",
      "f = figure()  # create a figure to store our lines\n",
      "f.circle(x, y, color='red')  # create a bunch of circles (a scatter plot)\n",
      "show(f)  # show the figure in the notebook"
     ],
     "language": "python",
     "metadata": {},
     "outputs": [
      {
       "output_type": "stream",
       "stream": "stdout",
       "text": [
        "Using saved session configuration for http://localhost:5006/\n",
        "To override, pass 'load_from_config=False' to Session\n"
       ]
      },
      {
       "html": [
        "<script\n",
        "    src=\"http://localhost:5006/bokeh/autoload.js/4720e8a8-011c-46d6-9d15-037cd6ddadf3\"\n",
        "    id=\"4720e8a8-011c-46d6-9d15-037cd6ddadf3\"\n",
        "    async=\"true\"\n",
        "    data-bokeh-data=\"server\"\n",
        "    data-bokeh-modelid=\"59112e3b-80b5-4e17-8362-43a62a296921\"\n",
        "    data-bokeh-root-url=\"http://localhost:5006/\"\n",
        "    data-bokeh-docid=\"dab907e4-1c6b-43e0-b392-1696f5af73c2\"\n",
        "    data-bokeh-docapikey=\"7ca22f46-842e-4d34-b0a4-e4728ea13fa3\"\n",
        "    data-bokeh-loglevel=\"info\"\n",
        "></script>"
       ],
       "metadata": {},
       "output_type": "display_data"
      }
     ],
     "prompt_number": 1
    },
    {
     "cell_type": "code",
     "collapsed": false,
     "input": [
      "m, c = np.polyfit(x, y, 1)  # fit a line to the data\n",
      "f.line(x, x*m + c, color='blue')  # plot the line\n",
      "show(f)"
     ],
     "language": "python",
     "metadata": {},
     "outputs": [
      {
       "html": [
        "<script\n",
        "    src=\"http://localhost:5006/bokeh/autoload.js/9ad97258-6fd6-45e8-8d28-8666212bb230\"\n",
        "    id=\"9ad97258-6fd6-45e8-8d28-8666212bb230\"\n",
        "    async=\"true\"\n",
        "    data-bokeh-data=\"server\"\n",
        "    data-bokeh-modelid=\"59112e3b-80b5-4e17-8362-43a62a296921\"\n",
        "    data-bokeh-root-url=\"http://localhost:5006/\"\n",
        "    data-bokeh-docid=\"dab907e4-1c6b-43e0-b392-1696f5af73c2\"\n",
        "    data-bokeh-docapikey=\"7ca22f46-842e-4d34-b0a4-e4728ea13fa3\"\n",
        "    data-bokeh-loglevel=\"info\"\n",
        "></script>"
       ],
       "metadata": {},
       "output_type": "display_data"
      }
     ],
     "prompt_number": 2
    },
    {
     "cell_type": "markdown",
     "metadata": {},
     "source": [
      "From the above example you can see two important things:\n",
      "- how easy it is to plot data\n",
      "- how easy it is to add new objects to the chart.\n",
      "\n",
      "# Interracting with data with a user interface\n",
      "We are now going to show how to add button functionality to our plot, allowing us to get new random data"
     ]
    },
    {
     "cell_type": "code",
     "collapsed": false,
     "input": [
      "from bokeh.models import ColumnDataSource\n",
      "source = ColumnDataSource(data=dict(x=x, y=y))  # allows for interactive playing with data\n",
      "f = figure(tools='pan,wheel_zoom,box_zoom,reset,resize,box_select')\n",
      "# the width and height are needed because of a current bug in bokeh-> ipython\n",
      "f.circle('x', 'y', plot_width=200, plot_height=200, source=source)  # x and y are now the keys in the source.\n",
      "show(f)"
     ],
     "language": "python",
     "metadata": {},
     "outputs": [
      {
       "html": [
        "<script\n",
        "    src=\"http://localhost:5006/bokeh/autoload.js/c9b5d3c0-0316-4e52-8ba4-ab15922e3300\"\n",
        "    id=\"c9b5d3c0-0316-4e52-8ba4-ab15922e3300\"\n",
        "    async=\"true\"\n",
        "    data-bokeh-data=\"server\"\n",
        "    data-bokeh-modelid=\"297a4a39-1826-452a-8a3d-83485c44a9bf\"\n",
        "    data-bokeh-root-url=\"http://localhost:5006/\"\n",
        "    data-bokeh-docid=\"dab907e4-1c6b-43e0-b392-1696f5af73c2\"\n",
        "    data-bokeh-docapikey=\"7ca22f46-842e-4d34-b0a4-e4728ea13fa3\"\n",
        "    data-bokeh-loglevel=\"info\"\n",
        "></script>"
       ],
       "metadata": {},
       "output_type": "display_data"
      }
     ],
     "prompt_number": 3
    },
    {
     "cell_type": "code",
     "collapsed": false,
     "input": [
      "# This looks like it does much the same thing, but it does much more.\n",
      "def randomize(offset=200, spread=10, slope=10):\n",
      "    global x, y # we are making these global so in the future we can access them easier\n",
      "    y = np.random.randn(LEN) * spread + np.arange(LEN) * slope + offset\n",
      "    source.data['y'] = y\n",
      "    cursession().store_objects(source)\n",
      "    \n",
      "randomize(100, 10, 2)"
     ],
     "language": "python",
     "metadata": {},
     "outputs": [],
     "prompt_number": 4
    },
    {
     "cell_type": "markdown",
     "metadata": {},
     "source": [
      "## Stop, what happened?\n",
      "Notice how every time you exectute the above code, it changes the chart above it. What is happening here?\n",
      "\n",
      "First of all, you are NOT giving a command to redraw the plot. You are simply storing a new object in the current session object. The \"session object\" is [**need help from developer here**] just a storage container for each user on your webpage. One of the things it holds is the data that is plotted in your figures. So when you call `cursession().store_objects(source)`, it looks for a `source` that has the same name, replaces it, and changes the data on the corresponding linked plots.\n",
      "\n",
      "Note: the python code that is holding your data is the `bokeh-server` you started before you ran this notebook. If none of this is working, read the beginning.\n",
      "\n",
      "Now that we know how to update data in a plot, we should let the user do so with a button, shouldn't we?\n",
      "\n",
      "> Note, in the future we will be using the buttons from bokeh.models.widgets. Right now there is a bug\n",
      "> that does not allow you to use these when running bokeh-server\n"
     ]
    },
    {
     "cell_type": "code",
     "collapsed": false,
     "input": [
      "from IPython.html.widgets import widget_button, ButtonWidget\n",
      "from IPython.display import clear_output, display\n",
      "button = ButtonWidget(description='randomize')"
     ],
     "language": "python",
     "metadata": {},
     "outputs": [],
     "prompt_number": 5
    },
    {
     "cell_type": "code",
     "collapsed": false,
     "input": [
      "button.on_click(lambda obj: randomize(100, 10, 2))\n",
      "display(button)\n",
      "show(f)"
     ],
     "language": "python",
     "metadata": {},
     "outputs": [
      {
       "html": [
        "<script\n",
        "    src=\"http://localhost:5006/bokeh/autoload.js/3ec5213b-fc5c-4f74-aa50-4dc1d56ca294\"\n",
        "    id=\"3ec5213b-fc5c-4f74-aa50-4dc1d56ca294\"\n",
        "    async=\"true\"\n",
        "    data-bokeh-data=\"server\"\n",
        "    data-bokeh-modelid=\"297a4a39-1826-452a-8a3d-83485c44a9bf\"\n",
        "    data-bokeh-root-url=\"http://localhost:5006/\"\n",
        "    data-bokeh-docid=\"dab907e4-1c6b-43e0-b392-1696f5af73c2\"\n",
        "    data-bokeh-docapikey=\"7ca22f46-842e-4d34-b0a4-e4728ea13fa3\"\n",
        "    data-bokeh-loglevel=\"info\"\n",
        "></script>"
       ],
       "metadata": {},
       "output_type": "display_data"
      }
     ],
     "prompt_number": 6
    },
    {
     "cell_type": "markdown",
     "metadata": {},
     "source": [
      "Let's include some more features, such as a drop down and an integer input box"
     ]
    },
    {
     "cell_type": "code",
     "collapsed": false,
     "input": [
      "from IPython.html.widgets import IntTextWidget, DropdownWidget, IntSliderWidget, ContainerWidget\n",
      "slope = DropdownWidget(description=\"slope\", values = list(range(0, 20)))\n",
      "offset = IntTextWidget(description='offset')\n",
      "spread = IntSliderWidget(description='spread', values=(0, 100))\n",
      "button = ButtonWidget(description='randomize')  # create a new button to attach a new function"
     ],
     "language": "python",
     "metadata": {},
     "outputs": [],
     "prompt_number": 7
    },
    {
     "cell_type": "code",
     "collapsed": false,
     "input": [
      "# create a function that works inside the on_change caller\n",
      "change = lambda obj: randomize(offset.value, spread.value, slope.value)\n",
      "\n",
      "# Add actuations\n",
      "button.on_click(change)\n",
      "slope.on_trait_change(change)\n",
      "offset.on_trait_change(change)\n",
      "spread.on_trait_change(change)\n",
      "\n",
      "display(slope, offset, spread, button)\n",
      "show(f)"
     ],
     "language": "python",
     "metadata": {},
     "outputs": [
      {
       "html": [
        "<script\n",
        "    src=\"http://localhost:5006/bokeh/autoload.js/db09b441-4463-4984-911c-ec9cd8a91530\"\n",
        "    id=\"db09b441-4463-4984-911c-ec9cd8a91530\"\n",
        "    async=\"true\"\n",
        "    data-bokeh-data=\"server\"\n",
        "    data-bokeh-modelid=\"297a4a39-1826-452a-8a3d-83485c44a9bf\"\n",
        "    data-bokeh-root-url=\"http://localhost:5006/\"\n",
        "    data-bokeh-docid=\"dab907e4-1c6b-43e0-b392-1696f5af73c2\"\n",
        "    data-bokeh-docapikey=\"7ca22f46-842e-4d34-b0a4-e4728ea13fa3\"\n",
        "    data-bokeh-loglevel=\"info\"\n",
        "></script>"
       ],
       "metadata": {},
       "output_type": "display_data"
      }
     ],
     "prompt_number": 8
    },
    {
     "cell_type": "markdown",
     "metadata": {},
     "source": [
      "Now you can use widgets above to change everything automatically, with the randomize button still being useful for creating new random data.\n",
      "\n",
      "## Trend Line and Labels\n",
      "There are some more features that we want to add, such as:\n",
      "- A trend line, like in the first example\n",
      "- Labeling the data better\n",
      "\n",
      "Let's see how we can implement all of this. First of all, let's put in the trend line"
     ]
    },
    {
     "cell_type": "code",
     "collapsed": false,
     "input": [
      "def get_line(x, y):\n",
      "    m, c = np.polyfit(x, y, 1)  # fit a line to the data\n",
      "    return x * m + c\n",
      "\n",
      "line = get_line(x, y)\n",
      "\n",
      "# we are going to use a separate source for this. This is because I know of now way currently to\n",
      "# Add a column onto an existing ColumnDataSource \n",
      "# (source.add(line, 'line_y') doesn't work with a store_objects here for some reason)\n",
      "source_line = ColumnDataSource(data=dict(x=x, line_y=line))\n",
      "f.line('x', 'line_y', color='red', source=source_line)\n",
      "# The function to randomize our line data\n",
      "def randomize_line():\n",
      "    # uses global variables from randomize\n",
      "    source_line.data['line_y'] = get_line(x, y)\n",
      "    cursession().store_objects(source_line)\n",
      "\n",
      "line_change = lambda obj: randomize_line()\n",
      "\n",
      "# Note that these objects store changes in a list, so it will still call the original\n",
      "# `change` function, then it will call `line_change`\n",
      "button.on_click(line_change)\n",
      "slope.on_trait_change(line_change)\n",
      "offset.on_trait_change(line_change)\n",
      "spread.on_trait_change(line_change)\n",
      "display(slope, offset, spread, button)\n",
      "show(f)"
     ],
     "language": "python",
     "metadata": {},
     "outputs": [
      {
       "html": [
        "<script\n",
        "    src=\"http://localhost:5006/bokeh/autoload.js/c1da7573-a90e-479c-b5fa-af34e1db0d57\"\n",
        "    id=\"c1da7573-a90e-479c-b5fa-af34e1db0d57\"\n",
        "    async=\"true\"\n",
        "    data-bokeh-data=\"server\"\n",
        "    data-bokeh-modelid=\"297a4a39-1826-452a-8a3d-83485c44a9bf\"\n",
        "    data-bokeh-root-url=\"http://localhost:5006/\"\n",
        "    data-bokeh-docid=\"dab907e4-1c6b-43e0-b392-1696f5af73c2\"\n",
        "    data-bokeh-docapikey=\"7ca22f46-842e-4d34-b0a4-e4728ea13fa3\"\n",
        "    data-bokeh-loglevel=\"info\"\n",
        "></script>"
       ],
       "metadata": {},
       "output_type": "display_data"
      }
     ],
     "prompt_number": 9
    },
    {
     "cell_type": "markdown",
     "metadata": {},
     "source": [
      "## Tools and Linked Charts\n",
      "Now there are several tools I would like to add, such as selection and a linked chart.\n",
      "This is relatively easy in the bokeh framework.\n"
     ]
    },
    {
     "cell_type": "code",
     "collapsed": false,
     "input": [
      "# from bokeh.models.tools import BoxSelectTool  \n",
      "# f.add_tools(BoxSelectTool)  # BUG: This doesn't work\n",
      "\n",
      "# shamelessly stolen from exercises/histogram.py\n",
      "\n",
      "# create initial data source\n",
      "def get_hist():\n",
      "    global y\n",
      "    return np.histogram(y, density=True, bins=50)\n",
      "\n",
      "hist, edges = get_hist()\n",
      "hsource = ColumnDataSource(data={'top': hist, 'left':edges[:-1], 'right':edges[1:], 'bottom': 0})\n",
      "\n",
      "def randomize_hist():\n",
      "    hist, edges = get_hist()\n",
      "    hsource.data.update({\n",
      "        'top': hist,\n",
      "        'left': edges[:-1],\n",
      "        'right': edges[1:],\n",
      "        'bottom': 0,\n",
      "    })\n",
      "    cursession().store_objects(hsource)\n",
      "\n",
      "hist_change = lambda obj: randomize_hist()\n",
      "\n",
      "button.on_click(hist_change)\n",
      "slope.on_trait_change(hist_change)\n",
      "offset.on_trait_change(hist_change)\n",
      "spread.on_trait_change(hist_change)"
     ],
     "language": "python",
     "metadata": {},
     "outputs": [],
     "prompt_number": 10
    },
    {
     "cell_type": "code",
     "collapsed": false,
     "input": [
      "# create a new figure\n",
      "f2 = figure(tools='pan,wheel_zoom,box_zoom,reset,resize,box_select',\n",
      "            background_fill=\"#E8DDCB\")\n",
      "\n",
      "# Use the `quad` renderer to display the histogram bars.\n",
      "f2.quad(top='top', bottom=0, left='left', right='right', source=hsource,\n",
      "        plot_width=200, plot_height=200, # have to have because of BUG\n",
      "        fill_color=\"#036564\", line_color=\"#033649\")\n",
      "\n",
      "display(slope, offset, spread, button)\n",
      "show(f2)\n",
      "show(f)\n",
      "\n",
      "# ISSUE: Box Select doesn't seem to be working with histogram"
     ],
     "language": "python",
     "metadata": {},
     "outputs": [
      {
       "html": [
        "<script\n",
        "    src=\"http://localhost:5006/bokeh/autoload.js/5ea1d42e-cf99-4c4e-a9f5-df8d7bc23fb1\"\n",
        "    id=\"5ea1d42e-cf99-4c4e-a9f5-df8d7bc23fb1\"\n",
        "    async=\"true\"\n",
        "    data-bokeh-data=\"server\"\n",
        "    data-bokeh-modelid=\"d5b3179c-9798-4580-bb88-91d94a4fc107\"\n",
        "    data-bokeh-root-url=\"http://localhost:5006/\"\n",
        "    data-bokeh-docid=\"dab907e4-1c6b-43e0-b392-1696f5af73c2\"\n",
        "    data-bokeh-docapikey=\"7ca22f46-842e-4d34-b0a4-e4728ea13fa3\"\n",
        "    data-bokeh-loglevel=\"info\"\n",
        "></script>"
       ],
       "metadata": {},
       "output_type": "display_data"
      },
      {
       "html": [
        "<script\n",
        "    src=\"http://localhost:5006/bokeh/autoload.js/e859a5db-0ee1-4e63-8d3f-ef7583ec4c96\"\n",
        "    id=\"e859a5db-0ee1-4e63-8d3f-ef7583ec4c96\"\n",
        "    async=\"true\"\n",
        "    data-bokeh-data=\"server\"\n",
        "    data-bokeh-modelid=\"297a4a39-1826-452a-8a3d-83485c44a9bf\"\n",
        "    data-bokeh-root-url=\"http://localhost:5006/\"\n",
        "    data-bokeh-docid=\"dab907e4-1c6b-43e0-b392-1696f5af73c2\"\n",
        "    data-bokeh-docapikey=\"7ca22f46-842e-4d34-b0a4-e4728ea13fa3\"\n",
        "    data-bokeh-loglevel=\"info\"\n",
        "></script>"
       ],
       "metadata": {},
       "output_type": "display_data"
      }
     ],
     "prompt_number": 11
    },
    {
     "cell_type": "code",
     "collapsed": false,
     "input": [],
     "language": "python",
     "metadata": {},
     "outputs": [],
     "prompt_number": 11
    }
   ],
   "metadata": {}
  }
 ]
}